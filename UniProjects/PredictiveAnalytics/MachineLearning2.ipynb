{
  "nbformat": 4,
  "nbformat_minor": 0,
  "metadata": {
    "colab": {
      "name": "MachineLearning2.ipynb",
      "provenance": [],
      "collapsed_sections": []
    },
    "kernelspec": {
      "name": "python3",
      "display_name": "Python 3"
    },
    "language_info": {
      "name": "python"
    }
  },
  "cells": [
    {
      "cell_type": "code",
      "execution_count": 17,
      "metadata": {
        "id": "Pjq3pDGCRKss",
        "colab": {
          "base_uri": "https://localhost:8080/"
        },
        "outputId": "8905008a-ccf9-494e-eeb9-102c164f1947"
      },
      "outputs": [
        {
          "output_type": "stream",
          "name": "stdout",
          "text": [
            "Drive already mounted at /content/drive; to attempt to forcibly remount, call drive.mount(\"/content/drive\", force_remount=True).\n"
          ]
        }
      ],
      "source": [
        "from google.colab import drive\n",
        "drive.mount('/content/drive')"
      ]
    },
    {
      "cell_type": "markdown",
      "source": [
        "View.ipynb viewing functions"
      ],
      "metadata": {
        "id": "ceRv4Gd9WFy9"
      }
    },
    {
      "cell_type": "code",
      "source": [
        "import matplotlib.pyplot as plt\n",
        "\n",
        "def image_normalization(arr):\n",
        "    return (arr - arr.min())/(arr.max()-arr.min())\n",
        "\n",
        "def disable_ax_ticks(ax):\n",
        "    ax.set_xticks([])\n",
        "    ax.set_xticks([], minor=True)\n",
        "    ax.set_yticks([])\n",
        "    ax.set_yticks([], minor=True)\n",
        "\n",
        "def show_mnist_examples(x, y):\n",
        "    fig = plt.figure(constrained_layout=True,figsize=(12,9), dpi=100)\n",
        "    gs = fig.add_gridspec(3,4)\n",
        "    main_ax = fig.add_subplot(gs[:3,:3])\n",
        "    fig.suptitle(y)\n",
        "    #main_ax.imshow(np.moveaxis(x, 0, -1))# .imshow(x)\n",
        "    main_ax.imshow(image_normalization(np.moveaxis(x, 0, -1)))\n",
        "    disable_ax_ticks(main_ax)\n",
        "\n",
        "    for j in range(3):\n",
        "      c_ax = fig.add_subplot(gs[j,-1])\n",
        "      subimage = x.copy()\n",
        "      subimage[:j] = 0\n",
        "      subimage[j+1:] = 0\n",
        "      subimage[j] = subimage[j]-subimage[j].min()\n",
        "      c_ax.imshow(image_normalization(np.moveaxis(subimage, 0, -1)))\n",
        "      disable_ax_ticks(c_ax)\n",
        "    plt.show()"
      ],
      "metadata": {
        "id": "HssxwPGFWFXV"
      },
      "execution_count": 18,
      "outputs": []
    },
    {
      "cell_type": "markdown",
      "source": [
        "Loading dataset"
      ],
      "metadata": {
        "id": "dCTwcFaVc-sE"
      }
    },
    {
      "cell_type": "code",
      "execution_count": 19,
      "metadata": {
        "id": "uMGLPS-icmRC"
      },
      "outputs": [],
      "source": [
        "import numpy as np\n",
        "train_X = np.load(\"/content/drive/MyDrive/MLCoursework/train_x.npy\", allow_pickle=True)\n",
        "train_y = np.load(\"/content/drive/MyDrive/MLCoursework/train_y.npy\", allow_pickle=True)\n",
        "validate_X = np.load(\"/content/drive/MyDrive/MLCoursework/valid_x.npy\", allow_pickle=True)\n",
        "validate_y = np.load(\"/content/drive/MyDrive/MLCoursework/valid_y.npy\", allow_pickle=True)\n",
        "test_x = np.load(\"/content/drive/MyDrive/MLCoursework/test_x.npy\", allow_pickle=True)\n",
        "test_y = np.load(\"/content/drive/MyDrive/MLCoursework/test_y.npy\", allow_pickle=True)"
      ]
    },
    {
      "cell_type": "markdown",
      "source": [
        "Constants"
      ],
      "metadata": {
        "id": "yMP6A7oKdSKX"
      }
    },
    {
      "cell_type": "code",
      "source": [
        "num_classes = 20\n",
        "input_shape = (32, 32, 3)"
      ],
      "metadata": {
        "id": "pGh8982_dTKZ"
      },
      "execution_count": 20,
      "outputs": []
    },
    {
      "cell_type": "markdown",
      "source": [
        "Importing ML libraries"
      ],
      "metadata": {
        "id": "Jse43C_vds8t"
      }
    },
    {
      "cell_type": "code",
      "source": [
        "from tensorflow import keras\n",
        "from tensorflow.keras import layers\n",
        "import tensorflow"
      ],
      "metadata": {
        "id": "aG5WvxyvjEys"
      },
      "execution_count": 21,
      "outputs": []
    },
    {
      "cell_type": "code",
      "source": [
        "# Normalizes dataset from 0 - 131 to 0 - 1\n",
        "train_X = image_normalization(train_X)\n",
        "validate_X = image_normalization(validate_X)\n",
        "\n",
        "# Pad with 0s so resolution will fit with pretrained model\n",
        "pad_train_x = np.pad(train_X, [(0,0), (0, 0), (2, 2), (2, 2)], mode='constant')\n",
        "pad_val_x = np.pad(validate_X, [(0,0), (0, 0), (2, 2), (2, 2)], mode='constant')\n",
        "\n",
        "# Change to channel last ordering \n",
        "pad_train_x = np.moveaxis(pad_train_x, 1, 3)\n",
        "pad_val_x = np.moveaxis(pad_val_x, 1, 3)\n",
        "\n",
        "# One hot encoding target feature \n",
        "train_y = keras.utils.to_categorical(train_y, num_classes)\n",
        "validate_y = keras.utils.to_categorical(validate_y, num_classes)"
      ],
      "metadata": {
        "id": "GDhd4aa5dtjx"
      },
      "execution_count": 22,
      "outputs": []
    },
    {
      "cell_type": "markdown",
      "source": [
        "Setting up keras model"
      ],
      "metadata": {
        "id": "SDstcYymgO7S"
      }
    },
    {
      "cell_type": "code",
      "source": [
        "from tokenize import Number\n",
        "from tensorflow.keras.applications.vgg16 import VGG16\n",
        "\n",
        "# Loading base model and setting to untrainable\n",
        "base_model = VGG16(weights='imagenet',\n",
        "                      include_top=False, \n",
        "                      input_shape=(32, 32, 3))\n",
        "base_model.trainable = False\n",
        "\n",
        "# creating model on top\n",
        "inputs = keras.Input(shape=(input_shape))\n",
        "x = base_model(inputs, training=False)\n",
        "x = keras.layers.Flatten()(x)\n",
        "x = keras.layers.Dense(128, activation='relu')(x)\n",
        "x = keras.layers.Dense(128, activation='relu')(x)\n",
        "outputs = keras.layers.Dense(num_classes, activation=\"softmax\")(x)\n",
        "model = keras.Model(inputs, outputs)\n",
        "\n",
        "# Displays model layers\n",
        "model.summary()"
      ],
      "metadata": {
        "id": "tmvaaaFHgOSX",
        "colab": {
          "base_uri": "https://localhost:8080/"
        },
        "outputId": "c1c9a6b5-3958-427b-b5fa-8ce164770e6f"
      },
      "execution_count": 25,
      "outputs": [
        {
          "output_type": "stream",
          "name": "stdout",
          "text": [
            "Model: \"model_2\"\n",
            "_________________________________________________________________\n",
            " Layer (type)                Output Shape              Param #   \n",
            "=================================================================\n",
            " input_6 (InputLayer)        [(None, 32, 32, 3)]       0         \n",
            "                                                                 \n",
            " vgg16 (Functional)          (None, 1, 1, 512)         14714688  \n",
            "                                                                 \n",
            " flatten_2 (Flatten)         (None, 512)               0         \n",
            "                                                                 \n",
            " dense_5 (Dense)             (None, 128)               65664     \n",
            "                                                                 \n",
            " dense_6 (Dense)             (None, 128)               16512     \n",
            "                                                                 \n",
            " dense_7 (Dense)             (None, 20)                2580      \n",
            "                                                                 \n",
            "=================================================================\n",
            "Total params: 14,799,444\n",
            "Trainable params: 84,756\n",
            "Non-trainable params: 14,714,688\n",
            "_________________________________________________________________\n"
          ]
        }
      ]
    },
    {
      "cell_type": "markdown",
      "source": [
        "Compiling and fitting model "
      ],
      "metadata": {
        "id": "KZxy2f6vuHJh"
      }
    },
    {
      "cell_type": "code",
      "source": [
        "batch_size = 125\n",
        "# For computation reasons I only do 1 epoch\n",
        "epochs = 1\n",
        "\n",
        "model.compile(loss=\"categorical_crossentropy\", optimizer=\"adam\", metrics=[\"accuracy\"])\n",
        "history = model.fit(pad_train_x, train_y, batch_size=batch_size, epochs=epochs, validation_data=(pad_val_x, validate_y))\n"
      ],
      "metadata": {
        "colab": {
          "base_uri": "https://localhost:8080/"
        },
        "id": "coZstG3qTrms",
        "outputId": "9b24b4a3-3536-426e-a1bd-c46fdee397fa"
      },
      "execution_count": 26,
      "outputs": [
        {
          "output_type": "stream",
          "name": "stdout",
          "text": [
            "360/360 [==============================] - 629s 2s/step - loss: 2.6699 - accuracy: 0.1402 - val_loss: 2.5308 - val_accuracy: 0.1687\n"
          ]
        }
      ]
    },
    {
      "cell_type": "markdown",
      "source": [
        "F1 Testing over dataset"
      ],
      "metadata": {
        "id": "_RxkBeRN77qH"
      }
    },
    {
      "cell_type": "code",
      "source": [
        "from sklearn.metrics import classification_report\n",
        "import time \n",
        "\n",
        "t0 = time.clock()\n",
        "pad_test_x = np.pad(test_x, [(0,0), (0, 0), (2, 2), (2, 2)], mode='constant')\n",
        "# Converts to channel last ordering\n",
        "pad_test_x = np.moveaxis(pad_test_x, 1, -1)\n",
        "\n",
        "# Finding model prediction probabilities \n",
        "test_pred = model.predict(pad_test_x)\n",
        "# Converts probabilities to category \n",
        "test_class_pred = np.argmax(test_pred,axis=1)\n",
        "\n",
        "# Print classification report \n",
        "print(classification_report(test_y, test_class_pred))\n",
        "\n",
        "# time taken\n",
        "t1 = time.clock() - 0\n",
        "print(\"CPU seconds: \", t1)"
      ],
      "metadata": {
        "id": "LSlLlPkv8EaJ",
        "colab": {
          "base_uri": "https://localhost:8080/"
        },
        "outputId": "ffb3b03e-e4e4-4d54-ae98-34eeb0c27cbf"
      },
      "execution_count": 30,
      "outputs": [
        {
          "output_type": "stream",
          "name": "stderr",
          "text": [
            "/usr/local/lib/python3.7/dist-packages/ipykernel_launcher.py:4: DeprecationWarning: time.clock has been deprecated in Python 3.3 and will be removed from Python 3.8: use time.perf_counter or time.process_time instead\n",
            "  after removing the cwd from sys.path.\n"
          ]
        },
        {
          "output_type": "stream",
          "name": "stdout",
          "text": [
            "              precision    recall  f1-score   support\n",
            "\n",
            "           0       0.42      0.71      0.53       395\n",
            "           1       0.80      0.01      0.02       423\n",
            "           2       0.16      0.12      0.14       454\n",
            "           3       0.00      0.00      0.00       504\n",
            "           4       0.00      0.00      0.00       447\n",
            "           5       0.15      0.01      0.01       544\n",
            "           6       0.19      0.02      0.03       497\n",
            "           7       0.05      0.13      0.07       466\n",
            "           8       0.00      0.00      0.00       527\n",
            "           9       0.00      0.00      0.00       534\n",
            "          10       0.06      0.01      0.01       531\n",
            "          11       0.05      0.08      0.06       544\n",
            "          12       0.00      0.00      0.00       536\n",
            "          13       0.05      0.01      0.02       506\n",
            "          14       0.03      0.02      0.02       519\n",
            "          15       0.00      0.00      0.00       507\n",
            "          16       0.04      0.08      0.05       477\n",
            "          17       0.04      0.05      0.05       518\n",
            "          18       0.17      0.01      0.01       532\n",
            "          19       0.09      0.77      0.16       539\n",
            "\n",
            "    accuracy                           0.10     10000\n",
            "   macro avg       0.12      0.10      0.06     10000\n",
            "weighted avg       0.11      0.10      0.05     10000\n",
            "\n",
            "CPU seconds:  4411.964228\n"
          ]
        },
        {
          "output_type": "stream",
          "name": "stderr",
          "text": [
            "/usr/local/lib/python3.7/dist-packages/sklearn/metrics/_classification.py:1308: UndefinedMetricWarning: Precision and F-score are ill-defined and being set to 0.0 in labels with no predicted samples. Use `zero_division` parameter to control this behavior.\n",
            "  _warn_prf(average, modifier, msg_start, len(result))\n",
            "/usr/local/lib/python3.7/dist-packages/sklearn/metrics/_classification.py:1308: UndefinedMetricWarning: Precision and F-score are ill-defined and being set to 0.0 in labels with no predicted samples. Use `zero_division` parameter to control this behavior.\n",
            "  _warn_prf(average, modifier, msg_start, len(result))\n",
            "/usr/local/lib/python3.7/dist-packages/sklearn/metrics/_classification.py:1308: UndefinedMetricWarning: Precision and F-score are ill-defined and being set to 0.0 in labels with no predicted samples. Use `zero_division` parameter to control this behavior.\n",
            "  _warn_prf(average, modifier, msg_start, len(result))\n",
            "/usr/local/lib/python3.7/dist-packages/ipykernel_launcher.py:18: DeprecationWarning: time.clock has been deprecated in Python 3.3 and will be removed from Python 3.8: use time.perf_counter or time.process_time instead\n"
          ]
        }
      ]
    }
  ]
}