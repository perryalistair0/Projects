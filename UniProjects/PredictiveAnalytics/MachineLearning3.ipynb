{
  "nbformat": 4,
  "nbformat_minor": 0,
  "metadata": {
    "colab": {
      "name": "MachineLearning3.ipynb",
      "provenance": [],
      "collapsed_sections": []
    },
    "kernelspec": {
      "name": "python3",
      "display_name": "Python 3"
    },
    "language_info": {
      "name": "python"
    }
  },
  "cells": [
    {
      "cell_type": "code",
      "execution_count": 36,
      "metadata": {
        "colab": {
          "base_uri": "https://localhost:8080/"
        },
        "id": "aPPpgSZd1Yak",
        "outputId": "a1322f6d-1e4b-49f9-e5b9-c3cf825901b9"
      },
      "outputs": [
        {
          "output_type": "stream",
          "name": "stdout",
          "text": [
            "Drive already mounted at /content/drive; to attempt to forcibly remount, call drive.mount(\"/content/drive\", force_remount=True).\n"
          ]
        }
      ],
      "source": [
        "from google.colab import drive\n",
        "drive.mount('/content/drive')"
      ]
    },
    {
      "cell_type": "markdown",
      "source": [
        "View.ipynb viewing functions"
      ],
      "metadata": {
        "id": "QQH9LNMX1l77"
      }
    },
    {
      "cell_type": "code",
      "source": [
        "import matplotlib.pyplot as plt\n",
        "\n",
        "def image_normalization(arr):\n",
        "    return (arr - arr.min())/(arr.max()-arr.min())\n",
        "\n",
        "def disable_ax_ticks(ax):\n",
        "    ax.set_xticks([])\n",
        "    ax.set_xticks([], minor=True)\n",
        "    ax.set_yticks([])\n",
        "    ax.set_yticks([], minor=True)\n",
        "\n",
        "def show_mnist_examples(x, y):\n",
        "    fig = plt.figure(constrained_layout=True,figsize=(12,9), dpi=100)\n",
        "    gs = fig.add_gridspec(3,4)\n",
        "    main_ax = fig.add_subplot(gs[:3,:3])\n",
        "    fig.suptitle(y)\n",
        "    #main_ax.imshow(np.moveaxis(x, 0, -1))# .imshow(x)\n",
        "    main_ax.imshow(image_normalization(np.moveaxis(x, 0, -1)))\n",
        "    disable_ax_ticks(main_ax)\n",
        "\n",
        "    for j in range(3):\n",
        "      c_ax = fig.add_subplot(gs[j,-1])\n",
        "      subimage = x.copy()\n",
        "      subimage[:j] = 0\n",
        "      subimage[j+1:] = 0\n",
        "      subimage[j] = subimage[j]-subimage[j].min()\n",
        "      c_ax.imshow(image_normalization(np.moveaxis(subimage, 0, -1)))\n",
        "      disable_ax_ticks(c_ax)\n",
        "    plt.show()"
      ],
      "metadata": {
        "id": "acQKyHIP1m46"
      },
      "execution_count": 37,
      "outputs": []
    },
    {
      "cell_type": "markdown",
      "source": [
        "Loading dataset"
      ],
      "metadata": {
        "id": "uJGjLyUM1n3Q"
      }
    },
    {
      "cell_type": "code",
      "source": [
        "import numpy as np\n",
        "train_X = np.load(\"/content/drive/MyDrive/MLCoursework/train_x.npy\", allow_pickle=True)\n",
        "train_y = np.load(\"/content/drive/MyDrive/MLCoursework/train_y.npy\", allow_pickle=True)\n",
        "validate_X = np.load(\"/content/drive/MyDrive/MLCoursework/valid_x.npy\", allow_pickle=True)\n",
        "validate_y = np.load(\"/content/drive/MyDrive/MLCoursework/valid_y.npy\", allow_pickle=True)\n",
        "test_x = np.load(\"/content/drive/MyDrive/MLCoursework/test_x.npy\", allow_pickle=True)\n",
        "test_y = np.load(\"/content/drive/MyDrive/MLCoursework/test_y.npy\", allow_pickle=True)"
      ],
      "metadata": {
        "id": "bGL8olh-1qD6"
      },
      "execution_count": 38,
      "outputs": []
    },
    {
      "cell_type": "markdown",
      "source": [
        "Constants\n"
      ],
      "metadata": {
        "id": "Vp1qy-sS1nwa"
      }
    },
    {
      "cell_type": "code",
      "source": [
        "num_classes = 20\n",
        "input_shape = (3, 28,28)"
      ],
      "metadata": {
        "id": "bzHhwbKi1vXI"
      },
      "execution_count": 39,
      "outputs": []
    },
    {
      "cell_type": "markdown",
      "source": [
        "Importing ML libraries"
      ],
      "metadata": {
        "id": "Iig8mG_B1xqA"
      }
    },
    {
      "cell_type": "code",
      "source": [
        "from tensorflow import keras\n",
        "from tensorflow.keras import layers\n",
        "import tensorflow"
      ],
      "metadata": {
        "id": "IswpVR_r13CH"
      },
      "execution_count": 40,
      "outputs": []
    },
    {
      "cell_type": "markdown",
      "source": [
        "Preprocess image"
      ],
      "metadata": {
        "id": "BBr6DidK0p_J"
      }
    },
    {
      "cell_type": "code",
      "source": [
        "# Normalize image\n",
        "train_X = image_normalization(train_X)\n",
        "validate_X = image_normalization(validate_X)\n",
        "\n",
        "# Convert to channel last\n",
        "train_X = np.moveaxis(train_X, 1, -1)\n",
        "validate_X = np.moveaxis(validate_X, 1, -1)\n",
        "\n",
        "# One-hot encode target feature\n",
        "train_y = keras.utils.to_categorical(train_y, num_classes)\n",
        "validate_y = keras.utils.to_categorical(validate_y, num_classes)"
      ],
      "metadata": {
        "id": "f_CyObrW2ReU"
      },
      "execution_count": 41,
      "outputs": []
    },
    {
      "cell_type": "markdown",
      "source": [
        "Building model"
      ],
      "metadata": {
        "id": "oLgCaVbJ0zyz"
      }
    },
    {
      "cell_type": "code",
      "source": [
        "model = keras.Sequential(\n",
        "    [\n",
        "        keras.layers.Conv2D(32, (3,3), activation='relu', input_shape=(28, 28, 3)),\n",
        "        layers.MaxPooling2D((2, 2)),\n",
        "        layers.Conv2D(64, (3,3), activation='relu'),\n",
        "        layers.MaxPooling2D((2, 2)),\n",
        "        layers.Conv2D(64, (3,3), activation='relu'),\n",
        "        layers.Flatten(),\n",
        "        layers.Dense(128, activation='relu'),\n",
        "        layers.Dense(128, activation='relu'),\n",
        "        layers.Dense(num_classes, activation=\"softmax\"),\n",
        "    ]\n",
        ")\n",
        "\n",
        "model.summary()"
      ],
      "metadata": {
        "colab": {
          "base_uri": "https://localhost:8080/"
        },
        "id": "kG88ytK94RO8",
        "outputId": "a1838303-f462-4526-c151-89d78b4cf832"
      },
      "execution_count": 42,
      "outputs": [
        {
          "output_type": "stream",
          "name": "stdout",
          "text": [
            "Model: \"sequential_5\"\n",
            "_________________________________________________________________\n",
            " Layer (type)                Output Shape              Param #   \n",
            "=================================================================\n",
            " conv2d_11 (Conv2D)          (None, 26, 26, 32)        896       \n",
            "                                                                 \n",
            " max_pooling2d_6 (MaxPooling  (None, 13, 13, 32)       0         \n",
            " 2D)                                                             \n",
            "                                                                 \n",
            " conv2d_12 (Conv2D)          (None, 11, 11, 64)        18496     \n",
            "                                                                 \n",
            " max_pooling2d_7 (MaxPooling  (None, 5, 5, 64)         0         \n",
            " 2D)                                                             \n",
            "                                                                 \n",
            " conv2d_13 (Conv2D)          (None, 3, 3, 64)          36928     \n",
            "                                                                 \n",
            " flatten_5 (Flatten)         (None, 576)               0         \n",
            "                                                                 \n",
            " dense_15 (Dense)            (None, 128)               73856     \n",
            "                                                                 \n",
            " dense_16 (Dense)            (None, 128)               16512     \n",
            "                                                                 \n",
            " dense_17 (Dense)            (None, 20)                2580      \n",
            "                                                                 \n",
            "=================================================================\n",
            "Total params: 149,268\n",
            "Trainable params: 149,268\n",
            "Non-trainable params: 0\n",
            "_________________________________________________________________\n"
          ]
        }
      ]
    },
    {
      "cell_type": "markdown",
      "source": [
        "Compiling and trainig"
      ],
      "metadata": {
        "id": "UEreBtmI-RPq"
      }
    },
    {
      "cell_type": "code",
      "source": [
        "batch_size = 125\n",
        "epochs = 10\n",
        "model.compile(loss=\"categorical_crossentropy\", optimizer=\"adam\", metrics=[\"accuracy\"])\n",
        "history = model.fit(train_X, train_y, batch_size=batch_size, epochs=epochs, validation_data=(validate_X, validate_y))"
      ],
      "metadata": {
        "id": "y5-FMPme-TwC",
        "colab": {
          "base_uri": "https://localhost:8080/"
        },
        "outputId": "7575a380-90c0-40f3-fb71-2c98818dd708"
      },
      "execution_count": 43,
      "outputs": [
        {
          "output_type": "stream",
          "name": "stdout",
          "text": [
            "Epoch 1/10\n",
            "360/360 [==============================] - 43s 117ms/step - loss: 2.3905 - accuracy: 0.1884 - val_loss: 2.0668 - val_accuracy: 0.2751\n",
            "Epoch 2/10\n",
            "360/360 [==============================] - 41s 114ms/step - loss: 1.9045 - accuracy: 0.3312 - val_loss: 1.7886 - val_accuracy: 0.3848\n",
            "Epoch 3/10\n",
            "360/360 [==============================] - 41s 114ms/step - loss: 1.6368 - accuracy: 0.4340 - val_loss: 1.5473 - val_accuracy: 0.4719\n",
            "Epoch 4/10\n",
            "360/360 [==============================] - 41s 114ms/step - loss: 1.4058 - accuracy: 0.5235 - val_loss: 1.3687 - val_accuracy: 0.5445\n",
            "Epoch 5/10\n",
            "360/360 [==============================] - 41s 114ms/step - loss: 1.1890 - accuracy: 0.6056 - val_loss: 1.2201 - val_accuracy: 0.6004\n",
            "Epoch 6/10\n",
            "360/360 [==============================] - 41s 113ms/step - loss: 1.0298 - accuracy: 0.6656 - val_loss: 1.0822 - val_accuracy: 0.6534\n",
            "Epoch 7/10\n",
            "360/360 [==============================] - 41s 113ms/step - loss: 0.8778 - accuracy: 0.7204 - val_loss: 0.9572 - val_accuracy: 0.6991\n",
            "Epoch 8/10\n",
            "360/360 [==============================] - 41s 113ms/step - loss: 0.7717 - accuracy: 0.7549 - val_loss: 0.8941 - val_accuracy: 0.7179\n",
            "Epoch 9/10\n",
            "360/360 [==============================] - 41s 113ms/step - loss: 0.6907 - accuracy: 0.7816 - val_loss: 0.8708 - val_accuracy: 0.7281\n",
            "Epoch 10/10\n",
            "360/360 [==============================] - 41s 113ms/step - loss: 0.6262 - accuracy: 0.8029 - val_loss: 0.8161 - val_accuracy: 0.7504\n"
          ]
        }
      ]
    },
    {
      "cell_type": "markdown",
      "source": [
        "Plotting model loss"
      ],
      "metadata": {
        "id": "4e_w2ZDHNkE_"
      }
    },
    {
      "cell_type": "code",
      "source": [
        "import matplotlib.pyplot as plt\n",
        "\n",
        "# Gets training history \n",
        "history_dict = history.history\n",
        "\n",
        "#Retrieves values\n",
        "loss_values = history_dict['loss']\n",
        "val_loss_values = history_dict['val_loss']\n",
        "\n",
        "# Sets x tick values \n",
        "epochs = range(1, len(loss_values) + 1)\n",
        "\n",
        "#Plots data\n",
        "plt.plot(epochs, loss_values, 'r', label='Training loss') \n",
        "plt.plot(epochs, val_loss_values, 'b', label='Validation loss') \n",
        "\n",
        "#labels\n",
        "\n",
        "plt.title('Training and validation loss')\n",
        "plt.xlabel('Epochs')\n",
        "plt.ylabel('Loss')\n",
        "plt.legend()\n",
        "\n",
        "plt.show()"
      ],
      "metadata": {
        "id": "s05ZHALkl5-z",
        "colab": {
          "base_uri": "https://localhost:8080/",
          "height": 295
        },
        "outputId": "743ca8a6-61f6-424d-ff37-66088706a3f0"
      },
      "execution_count": 44,
      "outputs": [
        {
          "output_type": "display_data",
          "data": {
            "image/png": "[encoded data removed]",
            "text/plain": [
              "<Figure size 432x288 with 1 Axes>"
            ]
          },
          "metadata": {
            "needs_background": "light"
          }
        }
      ]
    },
    {
      "cell_type": "markdown",
      "source": [
        "Plotting model loss"
      ],
      "metadata": {
        "id": "7DND47s2PGLt"
      }
    },
    {
      "cell_type": "code",
      "source": [
        "plt.clf()\n",
        "# Retrieves values\n",
        "acc = history_dict['accuracy']\n",
        "val_acc = history_dict['val_accuracy']\n",
        "\n",
        "# Plots data\n",
        "plt.plot(epochs, acc, 'bo', label='Training acc')\n",
        "plt.plot(epochs, val_acc, 'b', label='Validation acc')\n",
        "\n",
        "#labels\n",
        "plt.title('Training and validation accuracy')\n",
        "plt.xlabel('Epochs')\n",
        "plt.ylabel('Accuracy')\n",
        "plt.legend()\n",
        "\n",
        "plt.show()"
      ],
      "metadata": {
        "id": "proCcA-HPIyf",
        "colab": {
          "base_uri": "https://localhost:8080/",
          "height": 295
        },
        "outputId": "ee45fb82-7994-4d9b-fddc-c2a3c7443d0c"
      },
      "execution_count": 45,
      "outputs": [
        {
          "output_type": "display_data",
          "data": {
            "image/png": "[encoded data removed]",
            "text/plain": [
              "<Figure size 432x288 with 1 Axes>"
            ]
          },
          "metadata": {
            "needs_background": "light"
          }
        }
      ]
    },
    {
      "cell_type": "code",
      "source": [
        "from sklearn.metrics import classification_report\n",
        "import time \n",
        "\n",
        "t0 = time.clock()\n",
        "# Changes to channel last\n",
        "test_x1 = np.moveaxis(test_x, 1, -1)\n",
        "\n",
        "# Calculates prediction probabilities\n",
        "test_pred = model.predict(test_x1)\n",
        "# Converts probabilities to category \n",
        "test_class_pred = np.argmax(test_pred,axis=1)\n",
        "\n",
        "# Print classification report \n",
        "print(classification_report(test_y, test_class_pred))\n",
        "\n",
        "# time taken\n",
        "t1 = time.clock() - 0\n",
        "print(\"CPU seconds: \", t1)"
      ],
      "metadata": {
        "id": "oB4LOjwvNu8d",
        "colab": {
          "base_uri": "https://localhost:8080/"
        },
        "outputId": "c4c3a298-5873-4659-fea2-af9761ea2b96"
      },
      "execution_count": 48,
      "outputs": [
        {
          "output_type": "stream",
          "name": "stderr",
          "text": [
            "/usr/local/lib/python3.7/dist-packages/ipykernel_launcher.py:4: DeprecationWarning: time.clock has been deprecated in Python 3.3 and will be removed from Python 3.8: use time.perf_counter or time.process_time instead\n",
            "  after removing the cwd from sys.path.\n"
          ]
        },
        {
          "output_type": "stream",
          "name": "stdout",
          "text": [
            "              precision    recall  f1-score   support\n",
            "\n",
            "           0       0.98      0.98      0.98       395\n",
            "           1       0.95      0.94      0.94       423\n",
            "           2       0.90      0.91      0.90       454\n",
            "           3       0.93      0.89      0.91       504\n",
            "           4       0.80      0.89      0.84       447\n",
            "           5       0.82      0.83      0.83       544\n",
            "           6       0.85      0.77      0.81       497\n",
            "           7       0.79      0.74      0.77       466\n",
            "           8       0.80      0.77      0.78       527\n",
            "           9       0.70      0.75      0.72       534\n",
            "          10       0.71      0.65      0.68       531\n",
            "          11       0.75      0.61      0.67       544\n",
            "          12       0.63      0.69      0.66       536\n",
            "          13       0.65      0.61      0.63       506\n",
            "          14       0.59      0.65      0.62       519\n",
            "          15       0.68      0.63      0.66       507\n",
            "          16       0.69      0.59      0.64       477\n",
            "          17       0.69      0.62      0.65       518\n",
            "          18       0.61      0.83      0.70       532\n",
            "          19       0.70      0.78      0.73       539\n",
            "\n",
            "    accuracy                           0.75     10000\n",
            "   macro avg       0.76      0.76      0.76     10000\n",
            "weighted avg       0.75      0.75      0.75     10000\n",
            "\n",
            "CPU seconds:  1962.533487\n"
          ]
        },
        {
          "output_type": "stream",
          "name": "stderr",
          "text": [
            "/usr/local/lib/python3.7/dist-packages/ipykernel_launcher.py:16: DeprecationWarning: time.clock has been deprecated in Python 3.3 and will be removed from Python 3.8: use time.perf_counter or time.process_time instead\n",
            "  app.launch_new_instance()\n"
          ]
        }
      ]
    }
  ]
}