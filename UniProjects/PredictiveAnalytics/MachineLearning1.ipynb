{
  "nbformat": 4,
  "nbformat_minor": 0,
  "metadata": {
    "colab": {
      "name": "MachineLearning1.ipynb",
      "provenance": [],
      "collapsed_sections": []
    },
    "kernelspec": {
      "name": "python3",
      "display_name": "Python 3"
    },
    "language_info": {
      "name": "python"
    }
  },
  "cells": [
    {
      "cell_type": "markdown",
      "source": [
        "Mounting drive"
      ],
      "metadata": {
        "id": "BxbSZTu6gB4n"
      }
    },
    {
      "cell_type": "code",
      "execution_count": 1,
      "metadata": {
        "id": "Pjq3pDGCRKss",
        "colab": {
          "base_uri": "https://localhost:8080/"
        },
        "outputId": "69a25c30-5305-4c1c-b538-95d75a8f505b"
      },
      "outputs": [
        {
          "output_type": "stream",
          "name": "stdout",
          "text": [
            "Drive already mounted at /content/drive; to attempt to forcibly remount, call drive.mount(\"/content/drive\", force_remount=True).\n"
          ]
        }
      ],
      "source": [
        "from google.colab import drive\n",
        "drive.mount('/content/drive')"
      ]
    },
    {
      "cell_type": "markdown",
      "source": [
        "Loading datasets"
      ],
      "metadata": {
        "id": "RWMHyJcOgp7-"
      }
    },
    {
      "cell_type": "code",
      "source": [
        "import numpy as np\n",
        "train_X = np.load(\"/content/drive/MyDrive/MLCoursework/train_x.npy\", allow_pickle=True)\n",
        "train_y = np.load(\"/content/drive/MyDrive/MLCoursework/train_y.npy\", allow_pickle=True)\n",
        "validate_X = np.load(\"/content/drive/MyDrive/MLCoursework/valid_x.npy\", allow_pickle=True)\n",
        "validate_y = np.load(\"/content/drive/MyDrive/MLCoursework/valid_y.npy\", allow_pickle=True)\n",
        "test_x = np.load(\"/content/drive/MyDrive/MLCoursework/test_x.npy\", allow_pickle=True)\n",
        "test_y = np.load(\"/content/drive/MyDrive/MLCoursework/test_y.npy\", allow_pickle=True)"
      ],
      "metadata": {
        "id": "CZxpLpAcgo0o"
      },
      "execution_count": 2,
      "outputs": []
    },
    {
      "cell_type": "code",
      "source": [
        "train_X.shape"
      ],
      "metadata": {
        "colab": {
          "base_uri": "https://localhost:8080/"
        },
        "id": "CwST-0h4xJIW",
        "outputId": "1d40e228-d402-4b42-ebd2-21d3f48e7394"
      },
      "execution_count": 3,
      "outputs": [
        {
          "output_type": "execute_result",
          "data": {
            "text/plain": [
              "(45000, 3, 28, 28)"
            ]
          },
          "metadata": {},
          "execution_count": 3
        }
      ]
    },
    {
      "cell_type": "markdown",
      "source": [
        "View.ipynb viewing functions"
      ],
      "metadata": {
        "id": "lHyqrTjBhIIM"
      }
    },
    {
      "cell_type": "code",
      "source": [
        "import matplotlib.pyplot as plt\n",
        "\n",
        "def image_normalization(arr):\n",
        "    return (arr - arr.min())/(arr.max()-arr.min())\n",
        "\n",
        "def disable_ax_ticks(ax):\n",
        "    ax.set_xticks([])\n",
        "    ax.set_xticks([], minor=True)\n",
        "    ax.set_yticks([])\n",
        "    ax.set_yticks([], minor=True)\n",
        "\n",
        "def show_mnist_examples(x, y):\n",
        "    fig = plt.figure(constrained_layout=True,figsize=(12,9), dpi=100)\n",
        "    gs = fig.add_gridspec(3,4)\n",
        "    main_ax = fig.add_subplot(gs[:3,:3])\n",
        "    fig.suptitle(y)\n",
        "    #main_ax.imshow(np.moveaxis(x, 0, -1))# .imshow(x)\n",
        "    main_ax.imshow(image_normalization(np.moveaxis(x, 0, -1)))\n",
        "    disable_ax_ticks(main_ax)\n",
        "\n",
        "    for j in range(3):\n",
        "      c_ax = fig.add_subplot(gs[j,-1])\n",
        "      subimage = x.copy()\n",
        "      subimage[:j] = 0\n",
        "      subimage[j+1:] = 0\n",
        "      subimage[j] = subimage[j]-subimage[j].min()\n",
        "      c_ax.imshow(image_normalization(np.moveaxis(subimage, 0, -1)))\n",
        "      disable_ax_ticks(c_ax)\n",
        "    plt.show()"
      ],
      "metadata": {
        "id": "lq8jv3RuhHaX"
      },
      "execution_count": 4,
      "outputs": []
    },
    {
      "cell_type": "markdown",
      "source": [
        "importing ML libraries"
      ],
      "metadata": {
        "id": "3ZDv1UcGmDtA"
      }
    },
    {
      "cell_type": "code",
      "source": [
        "from tensorflow import keras\n",
        "from tensorflow.keras import layers\n",
        "import tensorflow"
      ],
      "metadata": {
        "id": "bMXEMbevmHqM"
      },
      "execution_count": 5,
      "outputs": []
    },
    {
      "cell_type": "markdown",
      "source": [
        "Constants"
      ],
      "metadata": {
        "id": "nvs4P_ajixOf"
      }
    },
    {
      "cell_type": "code",
      "source": [
        "num_class = 10\n",
        "input_shape = (28, 28, 1)\n",
        "\n",
        "# Loading dataset\n",
        "(x_train, y_train), (x_test, y_test) = tensorflow.keras.datasets.mnist.load_data()"
      ],
      "metadata": {
        "id": "EkVabUmki4rX",
        "colab": {
          "base_uri": "https://localhost:8080/"
        },
        "outputId": "0b1e4a99-7d6c-473e-8d7b-a2c313cb026c"
      },
      "execution_count": 6,
      "outputs": [
        {
          "output_type": "stream",
          "name": "stdout",
          "text": [
            "Downloading data from https://storage.googleapis.com/tensorflow/tf-keras-datasets/mnist.npz\n",
            "11493376/11490434 [==============================] - 0s 0us/step\n",
            "11501568/11490434 [==============================] - 0s 0us/step\n"
          ]
        }
      ]
    },
    {
      "cell_type": "markdown",
      "source": [
        "Pre-processing "
      ],
      "metadata": {
        "id": "pNxNNxTImWCz"
      }
    },
    {
      "cell_type": "code",
      "source": [
        "# Normalising data from 0-255 to 0-1\n",
        "x_train = x_train.astype(\"float32\") / 255\n",
        "x_test = x_test.astype(\"float32\") / 255\n",
        "\n",
        "x_train = np.expand_dims(x_train, -1)\n",
        "x_test = np.expand_dims(x_test, -1)\n",
        "\n",
        "# One hot encodes target feature\n",
        "y_train = keras.utils.to_categorical(y_train, num_class)\n",
        "y_test = keras.utils.to_categorical(y_test, num_class)"
      ],
      "metadata": {
        "id": "AvdyNzjemaxQ"
      },
      "execution_count": 7,
      "outputs": []
    },
    {
      "cell_type": "markdown",
      "source": [
        "Building model"
      ],
      "metadata": {
        "id": "jv79lmQ3oHER"
      }
    },
    {
      "cell_type": "code",
      "source": [
        "model = keras.Sequential(\n",
        "    [\n",
        "        keras.Input(shape=input_shape),\n",
        "        layers.Flatten(),\n",
        "        layers.Dense(128, activation='relu'),\n",
        "        layers.Dense(128, activation='relu'),\n",
        "        layers.Dense(num_class, activation=\"softmax\"),\n",
        "    ]\n",
        ")\n",
        "\n",
        "model.summary()"
      ],
      "metadata": {
        "colab": {
          "base_uri": "https://localhost:8080/"
        },
        "id": "fxnmMGbdoI2q",
        "outputId": "18ee9f11-0c3d-414b-a9ca-2fbd5d72c10b"
      },
      "execution_count": 8,
      "outputs": [
        {
          "output_type": "stream",
          "name": "stdout",
          "text": [
            "Model: \"sequential\"\n",
            "_________________________________________________________________\n",
            " Layer (type)                Output Shape              Param #   \n",
            "=================================================================\n",
            " flatten (Flatten)           (None, 784)               0         \n",
            "                                                                 \n",
            " dense (Dense)               (None, 128)               100480    \n",
            "                                                                 \n",
            " dense_1 (Dense)             (None, 128)               16512     \n",
            "                                                                 \n",
            " dense_2 (Dense)             (None, 10)                1290      \n",
            "                                                                 \n",
            "=================================================================\n",
            "Total params: 118,282\n",
            "Trainable params: 118,282\n",
            "Non-trainable params: 0\n",
            "_________________________________________________________________\n"
          ]
        }
      ]
    },
    {
      "cell_type": "markdown",
      "source": [
        "Compiling and fitting model"
      ],
      "metadata": {
        "id": "Z2yL28SdpFZf"
      }
    },
    {
      "cell_type": "code",
      "source": [
        "batch_size = 128\n",
        "epochs = 10\n",
        "model.compile(loss=\"categorical_crossentropy\", optimizer=\"adam\", metrics=[\"accuracy\"])\n",
        "\n",
        "history = model.fit(x_train, y_train, batch_size=batch_size, epochs=epochs, validation_data=(x_test,y_test))"
      ],
      "metadata": {
        "colab": {
          "base_uri": "https://localhost:8080/"
        },
        "id": "wmeLzmWPpHbJ",
        "outputId": "c2478389-32dc-459a-dc7f-1d2df4a2fd28"
      },
      "execution_count": 9,
      "outputs": [
        {
          "output_type": "stream",
          "name": "stdout",
          "text": [
            "Epoch 1/10\n",
            "469/469 [==============================] - 4s 7ms/step - loss: 0.3119 - accuracy: 0.9106 - val_loss: 0.1524 - val_accuracy: 0.9563\n",
            "Epoch 2/10\n",
            "469/469 [==============================] - 3s 7ms/step - loss: 0.1296 - accuracy: 0.9618 - val_loss: 0.1051 - val_accuracy: 0.9673\n",
            "Epoch 3/10\n",
            "469/469 [==============================] - 3s 6ms/step - loss: 0.0910 - accuracy: 0.9724 - val_loss: 0.0920 - val_accuracy: 0.9711\n",
            "Epoch 4/10\n",
            "469/469 [==============================] - 3s 7ms/step - loss: 0.0686 - accuracy: 0.9786 - val_loss: 0.0768 - val_accuracy: 0.9761\n",
            "Epoch 5/10\n",
            "469/469 [==============================] - 3s 7ms/step - loss: 0.0538 - accuracy: 0.9832 - val_loss: 0.0766 - val_accuracy: 0.9769\n",
            "Epoch 6/10\n",
            "469/469 [==============================] - 3s 6ms/step - loss: 0.0437 - accuracy: 0.9869 - val_loss: 0.0816 - val_accuracy: 0.9740\n",
            "Epoch 7/10\n",
            "469/469 [==============================] - 3s 7ms/step - loss: 0.0365 - accuracy: 0.9886 - val_loss: 0.0738 - val_accuracy: 0.9766\n",
            "Epoch 8/10\n",
            "469/469 [==============================] - 3s 7ms/step - loss: 0.0280 - accuracy: 0.9912 - val_loss: 0.0936 - val_accuracy: 0.9726\n",
            "Epoch 9/10\n",
            "469/469 [==============================] - 3s 7ms/step - loss: 0.0253 - accuracy: 0.9919 - val_loss: 0.0737 - val_accuracy: 0.9796\n",
            "Epoch 10/10\n",
            "469/469 [==============================] - 3s 7ms/step - loss: 0.0189 - accuracy: 0.9941 - val_loss: 0.0741 - val_accuracy: 0.9777\n"
          ]
        }
      ]
    },
    {
      "cell_type": "markdown",
      "source": [
        "Plotting model loss "
      ],
      "metadata": {
        "id": "eZulw1hn4GXg"
      }
    },
    {
      "cell_type": "code",
      "source": [
        "import matplotlib.pyplot as plt\n",
        "\n",
        "# Gets training history \n",
        "history_dict = history.history\n",
        "\n",
        "#Retrieves values\n",
        "loss_values = history_dict['loss']\n",
        "val_loss_values = history_dict['val_loss']\n",
        "\n",
        "# Sets x tick values \n",
        "epochs = range(1, len(loss_values) + 1)\n",
        "\n",
        "#Plots data\n",
        "plt.plot(epochs, loss_values, 'r', label='Training loss') \n",
        "plt.plot(epochs, val_loss_values, 'b', label='Validation loss') \n",
        "\n",
        "#labels\n",
        "\n",
        "plt.title('Training and validation loss')\n",
        "plt.xlabel('Epochs')\n",
        "plt.ylabel('Loss')\n",
        "plt.legend()\n",
        "\n",
        "plt.show()"
      ],
      "metadata": {
        "colab": {
          "base_uri": "https://localhost:8080/",
          "height": 295
        },
        "id": "9T4gTVg84Fdo",
        "outputId": "889896f4-5028-4dbb-db6d-c1845201469e"
      },
      "execution_count": 10,
      "outputs": [
        {
          "output_type": "display_data",
          "data": {
            "image/png": "[encoded data removed]",
            "text/plain": [
              "<Figure size 432x288 with 1 Axes>"
            ]
          },
          "metadata": {
            "needs_background": "light"
          }
        }
      ]
    },
    {
      "cell_type": "markdown",
      "source": [
        "Plotting model accuracy"
      ],
      "metadata": {
        "id": "KwkFPbgyrWpa"
      }
    },
    {
      "cell_type": "code",
      "source": [
        "plt.clf()\n",
        "# Retrieves values\n",
        "acc = history_dict['accuracy']\n",
        "val_acc = history_dict['val_accuracy']\n",
        "\n",
        "# Plots data\n",
        "plt.plot(epochs, acc, 'bo', label='Training acc')\n",
        "plt.plot(epochs, val_acc, 'b', label='Validation acc')\n",
        "\n",
        "#labels\n",
        "plt.title('Training and validation accuracy')\n",
        "plt.xlabel('Epochs')\n",
        "plt.ylabel('Accuracy')\n",
        "plt.legend()\n",
        "\n",
        "plt.show()"
      ],
      "metadata": {
        "colab": {
          "base_uri": "https://localhost:8080/",
          "height": 295
        },
        "id": "OTfNFRmwrbri",
        "outputId": "69928193-b12e-4ddb-e79d-a065807ff3e4"
      },
      "execution_count": 11,
      "outputs": [
        {
          "output_type": "display_data",
          "data": {
            "image/png": "[encoded data removed]",
            "text/plain": [
              "<Figure size 432x288 with 1 Axes>"
            ]
          },
          "metadata": {
            "needs_background": "light"
          }
        }
      ]
    },
    {
      "cell_type": "markdown",
      "source": [
        "F1 Report over dataset\n",
        "\n"
      ],
      "metadata": {
        "id": "ZWxp6RU9cf6q"
      }
    },
    {
      "cell_type": "code",
      "source": [
        "from PIL import Image\n",
        "from sklearn.metrics import classification_report\n",
        "from tqdm import tqdm\n",
        "import time \n",
        "\n",
        "t0 = time.clock()\n",
        "# Change this for the amount of data to test\n",
        "test_size = 300\n",
        "\n",
        "# Converts RGB array into three monochrome arrays \n",
        "def ConvertImage(x):\n",
        "  arr = []\n",
        "  for j in range(3):\n",
        "      subimage = x.copy()\n",
        "      subimage[:j] = 0\n",
        "      subimage[j+1:] = 0\n",
        "      subimage[j] = subimage[j]-subimage[j].min()\n",
        "      subimage = image_normalization(np.moveaxis(subimage, 0, -1))\n",
        "      subimage = subimage[:,:,j]\n",
        "      subimage = subimage.reshape(1, 28, 28, 1)\n",
        "      arr.append(subimage.copy())\n",
        "  return arr\n",
        "\n",
        "# Converts testign dataset\n",
        "Mono_test_x = []\n",
        "for i in test_x:\n",
        "  Mono_test_x.append(ConvertImage(i))\n",
        "\n",
        "# Predicts final sum\n",
        "final_pred = []\n",
        "for i in tqdm(Mono_test_x[:test_size]):\n",
        "  sum = 0 \n",
        "  for j in range(3):\n",
        "    sum += model.predict(i[j]).argmax()\n",
        "  final_pred.append(sum-1)\n",
        "\n",
        "# Prints classification report\n",
        "print(\"final test classification report\")\n",
        "print(classification_report(test_y[:test_size], final_pred))\n",
        "\n",
        "t1 = time.clock() - t0\n",
        "print(\"CPU seconds: \", t1)"
      ],
      "metadata": {
        "id": "_JUT1xNRAwI4",
        "colab": {
          "base_uri": "https://localhost:8080/"
        },
        "outputId": "1a3ba6e2-8845-4ceb-b1f8-7ab6393bad17"
      },
      "execution_count": 12,
      "outputs": [
        {
          "output_type": "stream",
          "name": "stderr",
          "text": [
            "/usr/local/lib/python3.7/dist-packages/ipykernel_launcher.py:6: DeprecationWarning: time.clock has been deprecated in Python 3.3 and will be removed from Python 3.8: use time.perf_counter or time.process_time instead\n",
            "  \n",
            "100%|██████████| 300/300 [00:56<00:00,  5.29it/s]"
          ]
        },
        {
          "output_type": "stream",
          "name": "stdout",
          "text": [
            "final test classification report\n",
            "              precision    recall  f1-score   support\n",
            "\n",
            "           0       1.00      1.00      1.00         4\n",
            "           1       1.00      0.89      0.94        19\n",
            "           2       0.89      1.00      0.94         8\n",
            "           3       1.00      0.94      0.97        16\n",
            "           4       0.95      1.00      0.97        18\n",
            "           5       1.00      0.90      0.95        10\n",
            "           6       0.93      1.00      0.96        13\n",
            "           7       0.93      1.00      0.97        14\n",
            "           8       0.93      0.93      0.93        15\n",
            "           9       1.00      0.80      0.89        10\n",
            "          10       1.00      0.90      0.95        21\n",
            "          11       0.79      0.88      0.83        17\n",
            "          12       0.82      1.00      0.90        14\n",
            "          13       0.91      1.00      0.95        20\n",
            "          14       1.00      0.89      0.94        19\n",
            "          15       1.00      1.00      1.00        14\n",
            "          16       0.89      0.84      0.86        19\n",
            "          17       0.86      0.92      0.89        13\n",
            "          18       0.94      0.94      0.94        18\n",
            "          19       0.93      0.78      0.85        18\n",
            "          20       0.00      0.00      0.00         0\n",
            "          21       0.00      0.00      0.00         0\n",
            "\n",
            "    accuracy                           0.93       300\n",
            "   macro avg       0.85      0.85      0.85       300\n",
            "weighted avg       0.94      0.93      0.93       300\n",
            "\n",
            "CPU seconds:  57.848758000000004\n"
          ]
        },
        {
          "output_type": "stream",
          "name": "stderr",
          "text": [
            "\n",
            "/usr/local/lib/python3.7/dist-packages/sklearn/metrics/_classification.py:1308: UndefinedMetricWarning: Recall and F-score are ill-defined and being set to 0.0 in labels with no true samples. Use `zero_division` parameter to control this behavior.\n",
            "  _warn_prf(average, modifier, msg_start, len(result))\n",
            "/usr/local/lib/python3.7/dist-packages/sklearn/metrics/_classification.py:1308: UndefinedMetricWarning: Recall and F-score are ill-defined and being set to 0.0 in labels with no true samples. Use `zero_division` parameter to control this behavior.\n",
            "  _warn_prf(average, modifier, msg_start, len(result))\n",
            "/usr/local/lib/python3.7/dist-packages/sklearn/metrics/_classification.py:1308: UndefinedMetricWarning: Recall and F-score are ill-defined and being set to 0.0 in labels with no true samples. Use `zero_division` parameter to control this behavior.\n",
            "  _warn_prf(average, modifier, msg_start, len(result))\n",
            "/usr/local/lib/python3.7/dist-packages/ipykernel_launcher.py:41: DeprecationWarning: time.clock has been deprecated in Python 3.3 and will be removed from Python 3.8: use time.perf_counter or time.process_time instead\n"
          ]
        }
      ]
    },
    {
      "cell_type": "markdown",
      "source": [
        "Random example prediction"
      ],
      "metadata": {
        "id": "sIC2KKwVxr-4"
      }
    },
    {
      "cell_type": "code",
      "source": [
        "import random \n",
        "# Gets size of dataset\n",
        "count = train_X.shape[0]\n",
        "\n",
        "# retrieves random image\n",
        "ri = random.randrange(count)\n",
        "random_image = train_X[ri]\n",
        "\n",
        "# Shows random image\n",
        "show_mnist_examples(random_image, train_y[ri])\n",
        "\n",
        "# Calculated final sum \n",
        "conv_img = ConvertImage(random_image)\n",
        "labels = ['red', 'green', 'blue']\n",
        "sum = 0\n",
        "for i in range(3):\n",
        "    num_pred = model.predict(conv_img[i]).argmax()\n",
        "    print(labels[i], \" model prediction: \", num_pred)\n",
        "    sum += num_pred\n",
        "sum-=1\n",
        "print(\"Final prediction: \", sum)\n",
        "\n"
      ],
      "metadata": {
        "colab": {
          "base_uri": "https://localhost:8080/",
          "height": 998
        },
        "id": "UQyj4MG5vHmY",
        "outputId": "b9a2e401-f95b-437a-da93-57db79b23c6d"
      },
      "execution_count": 13,
      "outputs": [
        {
          "output_type": "display_data",
          "data": {
            "image/png": "[encoded data removed]",
            "text/plain": [
              "<Figure size 1200x900 with 4 Axes>"
            ]
          },
          "metadata": {}
        },
        {
          "output_type": "stream",
          "name": "stdout",
          "text": [
            "red  model prediction:  9\n",
            "green  model prediction:  0\n",
            "blue  model prediction:  8\n",
            "Final prediction:  16\n"
          ]
        }
      ]
    }
  ]
}